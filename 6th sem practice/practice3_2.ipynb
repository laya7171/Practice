{
 "cells": [
  {
   "cell_type": "markdown",
   "id": "cecf9c54",
   "metadata": {},
   "source": [
    "## Fine tuning a transformer"
   ]
  },
  {
   "cell_type": "code",
   "execution_count": null,
   "id": "afae1b74",
   "metadata": {},
   "outputs": [],
   "source": []
  }
 ],
 "metadata": {
  "language_info": {
   "name": "python"
  }
 },
 "nbformat": 4,
 "nbformat_minor": 5
}
