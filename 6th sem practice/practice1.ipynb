{
 "cells": [
  {
   "cell_type": "markdown",
   "id": "6b26f035",
   "metadata": {},
   "source": [
    "## Practice day 1 in transformers"
   ]
  },
  {
   "cell_type": "markdown",
   "id": "32481a0d",
   "metadata": {},
   "source": [
    "Basic of how to import a transforme (Getting used to hugging face library)"
   ]
  },
  {
   "cell_type": "code",
   "execution_count": null,
   "id": "87af182a",
   "metadata": {},
   "outputs": [],
   "source": []
  }
 ],
 "metadata": {
  "kernelspec": {
   "display_name": "Python (ml)",
   "language": "python",
   "name": "ml"
  },
  "language_info": {
   "name": "python",
   "version": "3.9.18"
  }
 },
 "nbformat": 4,
 "nbformat_minor": 5
}
