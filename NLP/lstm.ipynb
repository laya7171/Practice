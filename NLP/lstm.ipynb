{
 "cells": [
  {
   "cell_type": "markdown",
   "metadata": {},
   "source": [
    "## Using lstm in nlp"
   ]
  },
  {
   "cell_type": "code",
   "execution_count": 1,
   "metadata": {},
   "outputs": [],
   "source": [
    "import tensorflow as tf\n",
    "from tensorflow import keras\n",
    "import numpy as np\n",
    "from tensorflow.keras.models import Sequential\n",
    "from tensorflow.keras.preprocessing.text import Tokenizer\n",
    "from tensorflow.keras.preprocessing.sequence import pad_sequences\n",
    "from tensorflow.keras.layers import Dense, Embedding, LSTM, SpatialDropout1D\n",
    "import matplotlib.pyplot as plt"
   ]
  },
  {
   "cell_type": "code",
   "execution_count": 2,
   "metadata": {},
   "outputs": [],
   "source": [
    "sentence = [\n",
    "       \"I love this product, it works amazingly well!\", \n",
    "    \"This is the worst purchase I've ever made.\",  \n",
    "    \"Absolutely fantastic! Highly recommended.\", \n",
    "    \"I regret buying this, totally useless.\",  \n",
    "    \"The service was great, very satisfied!\", \n",
    "    \"Terrible quality, broke within a day.\",  \n",
    "    \"I'm extremely happy with my experience.\", \n",
    "    \"Horrible experience, would never buy again.\",  \n",
    "    \"The staff was so kind and helpful!\", \n",
    "    \"I feel scammed, complete waste of money.\",  \n",
    "]\n",
    "\n",
    "label = np.array([1, 0, 1, 0, 1, 0, 1, 0, 1, 0])"
   ]
  },
  {
   "cell_type": "code",
   "execution_count": 3,
   "metadata": {},
   "outputs": [],
   "source": [
    "tokenizer =  Tokenizer(num_words=100, oov_token='<OOV>')\n",
    "tokenizer.fit_on_texts(sentence)\n",
    "\n",
    "word_index = tokenizer.word_index\n",
    "\n",
    "sequence = tokenizer.texts_to_sequences(sentence)  "
   ]
  },
  {
   "cell_type": "code",
   "execution_count": 4,
   "metadata": {},
   "outputs": [],
   "source": [
    "padded_sentence = pad_sequences(sequence, maxlen= 10, padding='post',truncating='post')\n"
   ]
  },
  {
   "cell_type": "code",
   "execution_count": 5,
   "metadata": {},
   "outputs": [],
   "source": [
    "## model building"
   ]
  },
  {
   "cell_type": "code",
   "execution_count": 6,
   "metadata": {},
   "outputs": [],
   "source": [
    "model = Sequential([\n",
    "    Embedding(input_dim=100, output_dim=16, input_length=10),\n",
    "    SpatialDropout1D(0.2),\n",
    "    LSTM(128, return_sequences=True), \n",
    "    LSTM(64),\n",
    "    Dense(128, activation='relu'),  \n",
    "    Dense(1, activation='sigmoid')  \n",
    "])"
   ]
  },
  {
   "cell_type": "code",
   "execution_count": 7,
   "metadata": {},
   "outputs": [
    {
     "name": "stdout",
     "output_type": "stream",
     "text": [
      "Model: \"sequential\"\n",
      "_________________________________________________________________\n",
      " Layer (type)                Output Shape              Param #   \n",
      "=================================================================\n",
      " embedding (Embedding)       (None, 10, 16)            1600      \n",
      "                                                                 \n",
      " spatial_dropout1d (SpatialD  (None, 10, 16)           0         \n",
      " ropout1D)                                                       \n",
      "                                                                 \n",
      " lstm (LSTM)                 (None, 10, 128)           74240     \n",
      "                                                                 \n",
      " lstm_1 (LSTM)               (None, 64)                49408     \n",
      "                                                                 \n",
      " dense (Dense)               (None, 128)               8320      \n",
      "                                                                 \n",
      " dense_1 (Dense)             (None, 1)                 129       \n",
      "                                                                 \n",
      "=================================================================\n",
      "Total params: 133,697\n",
      "Trainable params: 133,697\n",
      "Non-trainable params: 0\n",
      "_________________________________________________________________\n"
     ]
    }
   ],
   "source": [
    "model.summary()"
   ]
  },
  {
   "cell_type": "code",
   "execution_count": 8,
   "metadata": {},
   "outputs": [],
   "source": [
    "model.compile(loss='binary_crossentropy', optimizer='adam', metrics=['accuracy'])"
   ]
  },
  {
   "cell_type": "code",
   "execution_count": 9,
   "metadata": {},
   "outputs": [
    {
     "name": "stdout",
     "output_type": "stream",
     "text": [
      "Epoch 1/30\n",
      "1/1 [==============================] - 6s 6s/step - loss: 0.6930 - accuracy: 0.6000\n",
      "Epoch 2/30\n",
      "1/1 [==============================] - 0s 15ms/step - loss: 0.6924 - accuracy: 0.5000\n",
      "Epoch 3/30\n",
      "1/1 [==============================] - 0s 15ms/step - loss: 0.6915 - accuracy: 0.5000\n",
      "Epoch 4/30\n",
      "1/1 [==============================] - 0s 13ms/step - loss: 0.6911 - accuracy: 0.5000\n",
      "Epoch 5/30\n",
      "1/1 [==============================] - 0s 13ms/step - loss: 0.6904 - accuracy: 0.6000\n",
      "Epoch 6/30\n",
      "1/1 [==============================] - 0s 14ms/step - loss: 0.6896 - accuracy: 0.8000\n",
      "Epoch 7/30\n",
      "1/1 [==============================] - 0s 13ms/step - loss: 0.6870 - accuracy: 1.0000\n",
      "Epoch 8/30\n",
      "1/1 [==============================] - 0s 14ms/step - loss: 0.6846 - accuracy: 0.9000\n",
      "Epoch 9/30\n",
      "1/1 [==============================] - 0s 12ms/step - loss: 0.6801 - accuracy: 1.0000\n",
      "Epoch 10/30\n",
      "1/1 [==============================] - 0s 13ms/step - loss: 0.6760 - accuracy: 1.0000\n",
      "Epoch 11/30\n",
      "1/1 [==============================] - 0s 13ms/step - loss: 0.6691 - accuracy: 1.0000\n",
      "Epoch 12/30\n",
      "1/1 [==============================] - 0s 14ms/step - loss: 0.6570 - accuracy: 1.0000\n",
      "Epoch 13/30\n",
      "1/1 [==============================] - 0s 16ms/step - loss: 0.6451 - accuracy: 1.0000\n",
      "Epoch 14/30\n",
      "1/1 [==============================] - 0s 15ms/step - loss: 0.6337 - accuracy: 1.0000\n",
      "Epoch 15/30\n",
      "1/1 [==============================] - 0s 14ms/step - loss: 0.6137 - accuracy: 1.0000\n",
      "Epoch 16/30\n",
      "1/1 [==============================] - 0s 14ms/step - loss: 0.5900 - accuracy: 1.0000\n",
      "Epoch 17/30\n",
      "1/1 [==============================] - 0s 13ms/step - loss: 0.5520 - accuracy: 1.0000\n",
      "Epoch 18/30\n",
      "1/1 [==============================] - 0s 13ms/step - loss: 0.5181 - accuracy: 1.0000\n",
      "Epoch 19/30\n",
      "1/1 [==============================] - 0s 15ms/step - loss: 0.4820 - accuracy: 0.9000\n",
      "Epoch 20/30\n",
      "1/1 [==============================] - 0s 14ms/step - loss: 0.4217 - accuracy: 1.0000\n",
      "Epoch 21/30\n",
      "1/1 [==============================] - 0s 13ms/step - loss: 0.3455 - accuracy: 1.0000\n",
      "Epoch 22/30\n",
      "1/1 [==============================] - 0s 14ms/step - loss: 0.2611 - accuracy: 1.0000\n",
      "Epoch 23/30\n",
      "1/1 [==============================] - 0s 15ms/step - loss: 0.2081 - accuracy: 1.0000\n",
      "Epoch 24/30\n",
      "1/1 [==============================] - 0s 13ms/step - loss: 0.1314 - accuracy: 1.0000\n",
      "Epoch 25/30\n",
      "1/1 [==============================] - 0s 13ms/step - loss: 0.0743 - accuracy: 1.0000\n",
      "Epoch 26/30\n",
      "1/1 [==============================] - 0s 14ms/step - loss: 0.0413 - accuracy: 1.0000\n",
      "Epoch 27/30\n",
      "1/1 [==============================] - 0s 13ms/step - loss: 0.0281 - accuracy: 1.0000\n",
      "Epoch 28/30\n",
      "1/1 [==============================] - 0s 13ms/step - loss: 0.0210 - accuracy: 1.0000\n",
      "Epoch 29/30\n",
      "1/1 [==============================] - 0s 12ms/step - loss: 0.0125 - accuracy: 1.0000\n",
      "Epoch 30/30\n",
      "1/1 [==============================] - 0s 13ms/step - loss: 0.0036 - accuracy: 1.0000\n"
     ]
    }
   ],
   "source": [
    "history = model.fit(padded_sentence, label, epochs=30, batch_size=16)"
   ]
  },
  {
   "cell_type": "code",
   "execution_count": 10,
   "metadata": {},
   "outputs": [
    {
     "data": {
      "image/png": "[encoded data removed]",
      "text/plain": [
       "<Figure size 640x480 with 1 Axes>"
      ]
     },
     "metadata": {},
     "output_type": "display_data"
    }
   ],
   "source": [
    "plt.plot(history.history['accuracy'], label='Training Accuracy')\n",
    "plt.plot(history.history['accuracy'], label='Accuracy')\n",
    "plt.title('Model Accuracy')\n",
    "plt.xlabel('Epochs')\n",
    "plt.ylabel('Accuracy')\n",
    "plt.legend()\n",
    "plt.show()"
   ]
  },
  {
   "cell_type": "markdown",
   "metadata": {},
   "source": [
    "### Using new sentence to see the model accuracy"
   ]
  },
  {
   "cell_type": "code",
   "execution_count": 11,
   "metadata": {},
   "outputs": [],
   "source": [
    "new_sentence = [\n",
    "  \"I love this product, it's amazing!\",\n",
    "    \"This is the worst movie I have ever seen.\",\n",
    "    \"The food was great, I really enjoyed it.\",\n",
    "    \"I will never buy this again, terrible experience.\"\n",
    "]"
   ]
  },
  {
   "cell_type": "code",
   "execution_count": 12,
   "metadata": {},
   "outputs": [],
   "source": [
    "new_sequence = tokenizer.texts_to_sequences(new_sentence)"
   ]
  },
  {
   "cell_type": "code",
   "execution_count": 13,
   "metadata": {},
   "outputs": [
    {
     "name": "stdout",
     "output_type": "stream",
     "text": [
      "[[2, 7, 3, 8, 1, 1], [3, 13, 4, 14, 1, 2, 1, 17, 1], [4, 1, 5, 28, 2, 1, 1, 9], [2, 1, 44, 45, 3, 46, 31, 6]]\n"
     ]
    }
   ],
   "source": [
    "print(new_sequence)"
   ]
  },
  {
   "cell_type": "code",
   "execution_count": 14,
   "metadata": {},
   "outputs": [],
   "source": [
    "padded_test_sentence = pad_sequences(new_sequence, maxlen=10, padding='post', truncating='post')"
   ]
  },
  {
   "cell_type": "code",
   "execution_count": 15,
   "metadata": {},
   "outputs": [
    {
     "name": "stdout",
     "output_type": "stream",
     "text": [
      "1/1 [==============================] - 1s 993ms/step\n"
     ]
    }
   ],
   "source": [
    "prediction = model.predict(padded_test_sentence)"
   ]
  },
  {
   "cell_type": "code",
   "execution_count": 16,
   "metadata": {},
   "outputs": [
    {
     "name": "stdout",
     "output_type": "stream",
     "text": [
      "[[0.9877421 ]\n",
      " [0.00406853]\n",
      " [0.99577963]\n",
      " [0.08736815]]\n"
     ]
    }
   ],
   "source": [
    "print(prediction)"
   ]
  },
  {
   "cell_type": "code",
   "execution_count": 17,
   "metadata": {},
   "outputs": [],
   "source": [
    "predicted_labels = (prediction > 0.5).astype(int)"
   ]
  },
  {
   "cell_type": "code",
   "execution_count": 18,
   "metadata": {},
   "outputs": [
    {
     "name": "stdout",
     "output_type": "stream",
     "text": [
      "[[1]\n",
      " [0]\n",
      " [1]\n",
      " [0]]\n"
     ]
    }
   ],
   "source": [
    "print(predicted_labels)"
   ]
  },
  {
   "cell_type": "code",
   "execution_count": 19,
   "metadata": {},
   "outputs": [
    {
     "name": "stdout",
     "output_type": "stream",
     "text": [
      "Label distribution: [5 5]\n"
     ]
    }
   ],
   "source": [
    "print(\"Label distribution:\", np.bincount(label))"
   ]
  },
  {
   "cell_type": "code",
   "execution_count": 20,
   "metadata": {},
   "outputs": [
    {
     "data": {
      "image/png": "[encoded data removed]",
      "text/plain": [
       "<Figure size 640x480 with 1 Axes>"
      ]
     },
     "metadata": {},
     "output_type": "display_data"
    }
   ],
   "source": [
    "plt.plot(history.history['loss'], label='Loss')\n",
    "plt.plot(history.history['accuracy'], label='Accuracy')\n",
    "plt.xlabel('Epoch')\n",
    "plt.ylabel('Value')\n",
    "plt.legend()\n",
    "plt.show()"
   ]
  },
  {
   "cell_type": "code",
   "execution_count": null,
   "metadata": {},
   "outputs": [],
   "source": []
  }
 ],
 "metadata": {
  "kernelspec": {
   "display_name": "Python (ml)",
   "language": "python",
   "name": "ml"
  },
  "language_info": {
   "codemirror_mode": {
    "name": "ipython",
    "version": 3
   },
   "file_extension": ".py",
   "mimetype": "text/x-python",
   "name": "python",
   "nbconvert_exporter": "python",
   "pygments_lexer": "ipython3",
   "version": "3.9.18"
  }
 },
 "nbformat": 4,
 "nbformat_minor": 2
}
